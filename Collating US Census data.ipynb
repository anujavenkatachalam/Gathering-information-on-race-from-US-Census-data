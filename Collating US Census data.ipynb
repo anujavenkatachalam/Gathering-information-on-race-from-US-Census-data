{
 "cells": [
  {
   "cell_type": "markdown",
   "metadata": {},
   "source": [
    "# Title: Time-series mapping of race in New York City"
   ]
  },
  {
   "cell_type": "markdown",
   "metadata": {},
   "source": [
    "#### Description: \n",
    "This file consolidates population data from the American Community Survey (ACS) for the period 2010-2017 to analyze changes in the distribution of races in NYC."
   ]
  },
  {
   "cell_type": "markdown",
   "metadata": {},
   "source": [
    "#### Date updated: \n",
    "26-Jul-19 "
   ]
  },
  {
   "cell_type": "markdown",
   "metadata": {},
   "source": [
    "#### Author: \n",
    "Anuja Venkatachalam"
   ]
  },
  {
   "cell_type": "markdown",
   "metadata": {},
   "source": [
    "#### 1. Set-up"
   ]
  },
  {
   "cell_type": "code",
   "execution_count": 1,
   "metadata": {},
   "outputs": [],
   "source": [
    "#importing the requisite packages\n",
    "import pandas as pd\n",
    "%matplotlib inline\n",
    "import matplotlib.pyplot as plt\n",
    "import numpy as np\n",
    "import seaborn as sns\n",
    "import re\n",
    "pd.set_option(\"display.max_columns\", 100)\n",
    "import glob"
   ]
  },
  {
   "cell_type": "code",
   "execution_count": 2,
   "metadata": {},
   "outputs": [],
   "source": [
    "#setting file paths\n",
    "raw=\"C:/Users/Anuja/Desktop/Data_projects/2_Race_mapping/Raw/\"\n",
    "clean=\"C:/Users/Anuja/Desktop/Data_projects/2_Race_mapping/Clean/\""
   ]
  },
  {
   "cell_type": "markdown",
   "metadata": {},
   "source": [
    "#### 2. Consolidating census data on race in NY (2010-2017)"
   ]
  },
  {
   "cell_type": "code",
   "execution_count": 3,
   "metadata": {
    "scrolled": true
   },
   "outputs": [
    {
     "name": "stdout",
     "output_type": "stream",
     "text": [
      "This is year 10\n",
      "This is year 11\n",
      "This is year 12\n"
     ]
    }
   ],
   "source": [
    "#importing files separately as the Census Bureau has different codes for each year!\n",
    "\n",
    "#Census 2010, 2011 and 2012 have the same variable codes\n",
    "for year in range(10,13):\n",
    "        year=str(year)\n",
    "        print(f\"This is year {year}\")\n",
    "        census_df=pd.read_csv(raw+\"ACS_\"+year+\"_5YR_DP05.csv\", encoding=\"Latin1\")\n",
    "        census_df=census_df[[\"GEO.id\",\"GEO.id2\",\"GEO.display-label\",\n",
    "                                 \"HC01_VC38\", \"HC01_VC39\",\"HC01_VC40\",\n",
    "                                 \"HC01_VC43\",\"HC01_VC44\", \"HC01_VC45\",\n",
    "                                 \"HC01_VC50\",\"HC01_VC58\",\"HC01_VC63\"]]\n",
    "        census_df=census_df.rename(columns={\n",
    "            \"HC01_VC38\" :\"total_pop\",\n",
    "            \"HC01_VC39\" : \"one_race\",\n",
    "            \"HC01_VC40\" : \"two_or_more\",\n",
    "            \"HC01_VC43\" :\"white\",\n",
    "            \"HC01_VC44\" : \"black\",\n",
    "            \"HC01_VC45\" : \"am_indian_native\",\n",
    "            \"HC01_VC50\" : \"asian\",\n",
    "            \"HC01_VC58\" : \"native_hawai\",\n",
    "            \"HC01_VC63\" : \"other_one_race\"\n",
    "            })\n",
    "        census_df[\"year\"]=\"20\"+year\n",
    "        #checks\n",
    "        census_df[\"race_count\"]=census_df[\"one_race\"]+census_df[\"two_or_more\"]\n",
    "        census_df[\"race_type_count\"]=census_df[\"white\"]+census_df[\"black\"]+census_df[\"am_indian_native\"]+census_df[\"asian\"]+census_df[\"native_hawai\"]+census_df[\"other_one_race\"]\n",
    "        census_df.loc[census_df[\"race_count\"]!=census_df[\"total_pop\"], \"race_count_error\"]=1\n",
    "        census_df.loc[census_df[\"race_type_count\"]!=census_df[\"one_race\"], \"race_type_count_error\"]=1\n",
    "        census_df.to_csv(clean+\"clean\"+year+\".csv\", index=False)"
   ]
  },
  {
   "cell_type": "code",
   "execution_count": 4,
   "metadata": {},
   "outputs": [
    {
     "name": "stdout",
     "output_type": "stream",
     "text": [
      "This is year 13\n",
      "This is year 14\n",
      "This is year 15\n",
      "This is year 16\n"
     ]
    }
   ],
   "source": [
    "#Census 2013, 2014, 2015 and 2016 have the same variable codes\n",
    "\n",
    "for year in range(13,17):\n",
    "        year=str(year)\n",
    "        print(f\"This is year {year}\")\n",
    "        census_df=pd.read_csv(raw+\"ACS_\"+year+\"_5YR_DP05.csv\", encoding=\"Latin1\")\n",
    "        census_df=census_df[[\"GEO.id\",\"GEO.id2\",\"GEO.display-label\",\"HC01_VC43\",\"HC01_VC44\",\n",
    "                           \"HC01_VC45\", \"HC01_VC49\",\"HC01_VC50\",\"HC01_VC51\",\"HC01_VC56\",\"HC01_VC64\",\"HC01_VC69\"]]\n",
    "        census_df=census_df.rename(columns={\n",
    "            \"HC01_VC43\":\"total_pop\",\n",
    "            \"HC01_VC44\":\"one_race\",\n",
    "            \"HC01_VC45\":\"two_or_more\",\n",
    "            \"HC01_VC49\":\"white\",\n",
    "            \"HC01_VC50\":\"black\",\n",
    "            \"HC01_VC51\":\"am_indian_native\",\n",
    "            \"HC01_VC56\":\"asian\",\n",
    "            \"HC01_VC64\":\"native_hawai\",\n",
    "            \"HC01_VC69\":\"other_one_race\"\n",
    "            })\n",
    "        census_df[\"year\"]=\"20\"+year\n",
    "        #checks\n",
    "        census_df[\"race_count\"]=census_df[\"one_race\"]+census_df[\"two_or_more\"]\n",
    "        census_df[\"race_type_count\"]=census_df[\"white\"]+census_df[\"black\"]+census_df[\"am_indian_native\"]+census_df[\"asian\"]+census_df[\"native_hawai\"]+census_df[\"other_one_race\"]\n",
    "        census_df.loc[census_df[\"race_count\"]!=census_df[\"total_pop\"], \"race_count_error\"]=1\n",
    "        census_df.loc[census_df[\"race_type_count\"]!=census_df[\"one_race\"], \"race_type_count_error\"]=1\n",
    "        census_df.to_csv(clean+\"clean\"+year+\".csv\", index=False)\n"
   ]
  },
  {
   "cell_type": "code",
   "execution_count": 5,
   "metadata": {},
   "outputs": [
    {
     "name": "stdout",
     "output_type": "stream",
     "text": [
      "This is year 17\n"
     ]
    }
   ],
   "source": [
    "# Census 2017 has different codes\n",
    "\n",
    "year=\"17\"\n",
    "print(f\"This is year {year}\")\n",
    "census_df=pd.read_csv(raw+\"ACS_\"+year+\"_5YR_DP05.csv\", encoding=\"Latin1\")\n",
    "census_df=census_df[[\"GEO.id\",\"GEO.id2\",\"GEO.display-label\",\"HC01_VC48\",\n",
    "                    \"HC01_VC49\",\"HC01_VC50\",\"HC01_VC54\",\"HC01_VC55\",\n",
    "                    \"HC01_VC56\",\"HC01_VC61\",\"HC01_VC69\",\"HC01_VC74\"]] \n",
    "census_df=census_df.rename(columns={\n",
    "            \"HC01_VC48\":\"total_pop\",\n",
    "            \"HC01_VC49\":\"one_race\",\n",
    "            \"HC01_VC50\":\"two_or_more\",\n",
    "            \"HC01_VC54\":\"white\",\n",
    "            \"HC01_VC55\":\"black\",\n",
    "            \"HC01_VC56\":\"am_indian_native\",\n",
    "            \"HC01_VC61\":\"asian\",\n",
    "            \"HC01_VC69\":\"native_hawai\",\n",
    "            \"HC01_VC74\":\"other_one_race\"\n",
    "        })\n",
    "census_df[\"year\"]=\"20\"+year\n",
    "#checks\n",
    "census_df[\"race_count\"]=census_df[\"one_race\"]+census_df[\"two_or_more\"]\n",
    "census_df[\"race_type_count\"]=census_df[\"white\"]+census_df[\"black\"]+census_df[\"am_indian_native\"]+census_df[\"asian\"]+census_df[\"native_hawai\"]+census_df[\"other_one_race\"]\n",
    "census_df.loc[census_df[\"race_count\"]!=census_df[\"total_pop\"], \"race_count_error\"]=1\n",
    "census_df.loc[census_df[\"race_type_count\"]!=census_df[\"one_race\"], \"race_type_count_error\"]=1\n",
    "census_df.to_csv(clean+\"clean\"+year+\".csv\", index=False)\n"
   ]
  },
  {
   "cell_type": "code",
   "execution_count": 6,
   "metadata": {},
   "outputs": [],
   "source": [
    "# Importing the clean csv files\n",
    "\n",
    "all_files = glob.glob(clean+\"clean*.csv\")\n",
    "\n",
    "list = []\n",
    "\n",
    "for filename in all_files:\n",
    "    each_df=pd.read_csv(filename)\n",
    "    list.append(each_df)\n",
    "\n",
    "df=pd.concat(list, axis=0, sort=False)"
   ]
  },
  {
   "cell_type": "markdown",
   "metadata": {},
   "source": [
    "#### 3. Analysis"
   ]
  },
  {
   "cell_type": "code",
   "execution_count": 7,
   "metadata": {},
   "outputs": [],
   "source": [
    "#Checking errors -- no errors\n",
    "df[df.race_count_error.notnull()]\n",
    "df[df.race_type_count_error.notnull()]\n",
    "\n",
    "df=df.drop(columns=[\"race_count_error\",\"race_type_count_error\"])\n",
    "\n",
    "df.to_csv(clean+\"mapbox.csv\")"
   ]
  },
  {
   "cell_type": "code",
   "execution_count": 8,
   "metadata": {},
   "outputs": [
    {
     "data": {
      "text/plain": [
       "Index(['GEO.id', 'GEO.id2', 'GEO.display-label', 'total_pop', 'one_race',\n",
       "       'two_or_more', 'white', 'black', 'am_indian_native', 'asian',\n",
       "       'native_hawai', 'other_one_race', 'year', 'race_count',\n",
       "       'race_type_count'],\n",
       "      dtype='object')"
      ]
     },
     "execution_count": 8,
     "metadata": {},
     "output_type": "execute_result"
    }
   ],
   "source": [
    "df.columns"
   ]
  },
  {
   "cell_type": "code",
   "execution_count": 37,
   "metadata": {},
   "outputs": [],
   "source": [
    "temp=df.groupby(by=\"year\").sum()\n",
    "temp.reset_index(inplace=True)\n",
    "temp[\"year\"]=temp[\"year\"].astype(str)"
   ]
  },
  {
   "cell_type": "code",
   "execution_count": 46,
   "metadata": {},
   "outputs": [],
   "source": [
    "temp[\"one_pct\"]=temp[\"one_race\"]/temp[\"total_pop\"]*100\n",
    "temp[\"pct\"]=100"
   ]
  },
  {
   "cell_type": "code",
   "execution_count": 74,
   "metadata": {
    "scrolled": true
   },
   "outputs": [
    {
     "data": {
      "image/png": "[encoded data removed]",
      "text/plain": [
       "<Figure size 432x288 with 1 Axes>"
      ]
     },
     "metadata": {
      "needs_background": "light"
     },
     "output_type": "display_data"
    }
   ],
   "source": [
    "sns.barplot(data=temp, y=\"year\",x=\"pct\", orient=\"h\", color=\"#a6bddb\")\n",
    "ax=sns.barplot(data=temp, y=\"year\",x=\"one_pct\",orient=\"h\", color=\"#1c9099\")\n",
    "topbar=plt.Rectangle((0,0),1,1,fc=\"#a6bddb\", edgecolor = 'none')\n",
    "bottombar= plt.Rectangle((0,0),1,1,fc=\"#1c9099\",  edgecolor = 'none')\n",
    "l = plt.legend([bottombar, topbar], [\"Single Race\", \"Multi-racial\"], loc='upper left', bbox_to_anchor=(1, 1))\n",
    "ax.set_ylabel(\"Year\", fontname='Times New Roman', fontsize=12)\n",
    "ax.set_xlabel(\"Population percentage\", fontname='Times New Roman', fontsize=12)\n",
    "plt.title(\"Single vs. Multi-racial population in New York City (2010-2017)\", fontname='Times New Roman', fontsize=12)\n",
    "plt.savefig(clean+\"racial_split.png\")"
   ]
  },
  {
   "cell_type": "code",
   "execution_count": null,
   "metadata": {},
   "outputs": [],
   "source": []
  }
 ],
 "metadata": {
  "kernelspec": {
   "display_name": "Python 3",
   "language": "python",
   "name": "python3"
  },
  "language_info": {
   "codemirror_mode": {
    "name": "ipython",
    "version": 3
   },
   "file_extension": ".py",
   "mimetype": "text/x-python",
   "name": "python",
   "nbconvert_exporter": "python",
   "pygments_lexer": "ipython3",
   "version": "3.7.3"
  }
 },
 "nbformat": 4,
 "nbformat_minor": 2
}
